{
 "cells": [
  {
   "cell_type": "markdown",
   "metadata": {},
   "source": [
    "<h1><center> Manipulación de Bases de Datos </center></h1>"
   ]
  },
  {
   "cell_type": "code",
   "execution_count": 3,
   "metadata": {},
   "outputs": [],
   "source": [
    "import pandas as pd\n",
    "import numpy as np"
   ]
  },
  {
   "cell_type": "code",
   "execution_count": 2,
   "metadata": {},
   "outputs": [],
   "source": [
    "# # Cree una lista con 5 objetos de tipo int\n",
    "lista_int = [10,20,4,35,6]\n",
    "# # Cree una lista con 5 objetos de tipo str (al menos uno debe contener un espacio)\n",
    "lista_str = ['Economía','Administración de Empresas','Filosofía','Estadística','Contaduría Pública']\n",
    "# # Cree una lista que contega 10 objetos mezclados entre int y str \n",
    "lista_mix = lista_int + lista_str\n",
    "# # Cree una lista con 5 tuplas con objetos int y str de la forma [('A',4), ('X',5),...]\n",
    "lista_tuplas = [('X',2),('C',4),('A',5),('R',6),('O',7)]"
   ]
  },
  {
   "cell_type": "code",
   "execution_count": 3,
   "metadata": {},
   "outputs": [],
   "source": [
    "# sorted()"
   ]
  },
  {
   "cell_type": "markdown",
   "metadata": {},
   "source": [
    "# Pandas\n"
   ]
  },
  {
   "cell_type": "markdown",
   "metadata": {},
   "source": [
    "# pd.Series()"
   ]
  },
  {
   "cell_type": "markdown",
   "metadata": {},
   "source": [
    "``Numéricos``"
   ]
  },
  {
   "cell_type": "code",
   "execution_count": 4,
   "metadata": {},
   "outputs": [],
   "source": [
    "serie_int = pd.Series(lista_int, name='números')"
   ]
  },
  {
   "cell_type": "code",
   "execution_count": 5,
   "metadata": {},
   "outputs": [
    {
     "data": {
      "text/plain": [
       "1    20\n",
       "3    35\n",
       "Name: números, dtype: int64"
      ]
     },
     "execution_count": 5,
     "metadata": {},
     "output_type": "execute_result"
    }
   ],
   "source": [
    "# Mask bool\n",
    "mask = serie_int > 10\n",
    "serie_int[serie_int > 10]"
   ]
  },
  {
   "cell_type": "code",
   "execution_count": 6,
   "metadata": {},
   "outputs": [
    {
     "data": {
      "text/plain": [
       "35"
      ]
     },
     "execution_count": 6,
     "metadata": {},
     "output_type": "execute_result"
    }
   ],
   "source": [
    "serie_int.max()"
   ]
  },
  {
   "cell_type": "code",
   "execution_count": 7,
   "metadata": {},
   "outputs": [
    {
     "data": {
      "text/plain": [
       "4"
      ]
     },
     "execution_count": 7,
     "metadata": {},
     "output_type": "execute_result"
    }
   ],
   "source": [
    "serie_int.min()"
   ]
  },
  {
   "cell_type": "code",
   "execution_count": 8,
   "metadata": {},
   "outputs": [
    {
     "data": {
      "text/plain": [
       "3"
      ]
     },
     "execution_count": 8,
     "metadata": {},
     "output_type": "execute_result"
    }
   ],
   "source": [
    "serie_int.argmax() # me muestra el índice del valor maximo"
   ]
  },
  {
   "cell_type": "code",
   "execution_count": 9,
   "metadata": {},
   "outputs": [
    {
     "data": {
      "text/plain": [
       "2     4\n",
       "4     6\n",
       "0    10\n",
       "Name: números, dtype: int64"
      ]
     },
     "execution_count": 9,
     "metadata": {},
     "output_type": "execute_result"
    }
   ],
   "source": [
    "serie_int.nsmallest(3)"
   ]
  },
  {
   "cell_type": "code",
   "execution_count": 10,
   "metadata": {},
   "outputs": [
    {
     "data": {
      "text/plain": [
       "3    35\n",
       "1    20\n",
       "0    10\n",
       "Name: números, dtype: int64"
      ]
     },
     "execution_count": 10,
     "metadata": {},
     "output_type": "execute_result"
    }
   ],
   "source": [
    "serie_int.nlargest(3)"
   ]
  },
  {
   "cell_type": "code",
   "execution_count": 11,
   "metadata": {},
   "outputs": [
    {
     "data": {
      "text/plain": [
       "15.0"
      ]
     },
     "execution_count": 11,
     "metadata": {},
     "output_type": "execute_result"
    }
   ],
   "source": [
    "serie_int.mean()"
   ]
  },
  {
   "cell_type": "code",
   "execution_count": 12,
   "metadata": {},
   "outputs": [
    {
     "data": {
      "text/plain": [
       "163.0"
      ]
     },
     "execution_count": 12,
     "metadata": {},
     "output_type": "execute_result"
    }
   ],
   "source": [
    "serie_int.var()"
   ]
  },
  {
   "cell_type": "code",
   "execution_count": 13,
   "metadata": {},
   "outputs": [
    {
     "data": {
      "text/plain": [
       "0    10\n",
       "1    20\n",
       "2     4\n",
       "3    35\n",
       "4     6\n",
       "Name: números, dtype: int64"
      ]
     },
     "execution_count": 13,
     "metadata": {},
     "output_type": "execute_result"
    }
   ],
   "source": [
    "serie_int.clip()"
   ]
  },
  {
   "cell_type": "code",
   "execution_count": 14,
   "metadata": {},
   "outputs": [
    {
     "data": {
      "text/plain": [
       "0.5838759456509468"
      ]
     },
     "execution_count": 14,
     "metadata": {},
     "output_type": "execute_result"
    }
   ],
   "source": [
    "serie_int.kurtosis()"
   ]
  },
  {
   "cell_type": "code",
   "execution_count": 15,
   "metadata": {},
   "outputs": [
    {
     "data": {
      "text/plain": [
       "0    (3.969, 10.2]\n",
       "1     (16.4, 22.6]\n",
       "2    (3.969, 10.2]\n",
       "3     (28.8, 35.0]\n",
       "4    (3.969, 10.2]\n",
       "Name: números, dtype: category\n",
       "Categories (5, interval[float64]): [(3.969, 10.2] < (10.2, 16.4] < (16.4, 22.6] < (22.6, 28.8] < (28.8, 35.0]]"
      ]
     },
     "execution_count": 15,
     "metadata": {},
     "output_type": "execute_result"
    }
   ],
   "source": [
    "pd.cut(serie_int, 5)"
   ]
  },
  {
   "cell_type": "code",
   "execution_count": 16,
   "metadata": {},
   "outputs": [
    {
     "data": {
      "text/plain": [
       "0             NaN\n",
       "1             NaN\n",
       "2    (3.999, 6.0]\n",
       "3             NaN\n",
       "4    (3.999, 6.0]\n",
       "Name: números, dtype: category\n",
       "Categories (1, interval[float64]): [(3.999, 6.0]]"
      ]
     },
     "execution_count": 16,
     "metadata": {},
     "output_type": "execute_result"
    }
   ],
   "source": [
    "pd.qcut(serie_int,[0,0.25])"
   ]
  },
  {
   "cell_type": "code",
   "execution_count": 26,
   "metadata": {},
   "outputs": [
    {
     "data": {
      "text/plain": [
       "0    NaN\n",
       "1    NaN\n",
       "2    NaN\n",
       "3    2.5\n",
       "4   -0.7\n",
       "Name: números, dtype: float64"
      ]
     },
     "execution_count": 26,
     "metadata": {},
     "output_type": "execute_result"
    }
   ],
   "source": [
    "serie_int.pct_change(3)"
   ]
  },
  {
   "cell_type": "code",
   "execution_count": 29,
   "metadata": {},
   "outputs": [
    {
     "data": {
      "text/plain": [
       "0         NaN\n",
       "1    1.000000\n",
       "2    0.500000\n",
       "3    0.333333\n",
       "4    0.250000\n",
       "dtype: float64"
      ]
     },
     "execution_count": 29,
     "metadata": {},
     "output_type": "execute_result"
    }
   ],
   "source": [
    "pd.Series([1,2,3,4,5], dtype = 'int').pct_change(1)"
   ]
  },
  {
   "cell_type": "code",
   "execution_count": 30,
   "metadata": {},
   "outputs": [
    {
     "data": {
      "text/plain": [
       "0    2.302585\n",
       "1    2.995732\n",
       "2    1.386294\n",
       "3    3.555348\n",
       "4    1.791759\n",
       "Name: números, dtype: float64"
      ]
     },
     "execution_count": 30,
     "metadata": {},
     "output_type": "execute_result"
    }
   ],
   "source": [
    "serie_int.agg(np.log)"
   ]
  },
  {
   "cell_type": "code",
   "execution_count": null,
   "metadata": {},
   "outputs": [],
   "source": []
  },
  {
   "cell_type": "code",
   "execution_count": 31,
   "metadata": {},
   "outputs": [
    {
     "data": {
      "text/plain": [
       "0    10.0\n",
       "1    20.0\n",
       "2     4.0\n",
       "3    35.0\n",
       "4     6.0\n",
       "Name: números, dtype: float64"
      ]
     },
     "execution_count": 31,
     "metadata": {},
     "output_type": "execute_result"
    }
   ],
   "source": [
    "serie_int.agg(np.average)"
   ]
  },
  {
   "cell_type": "code",
   "execution_count": null,
   "metadata": {},
   "outputs": [],
   "source": []
  },
  {
   "cell_type": "markdown",
   "metadata": {},
   "source": [
    "***\n",
    "___"
   ]
  },
  {
   "cell_type": "markdown",
   "metadata": {},
   "source": [
    "``De Texto``"
   ]
  },
  {
   "cell_type": "code",
   "execution_count": 33,
   "metadata": {},
   "outputs": [
    {
     "data": {
      "text/plain": [
       "['Economía',\n",
       " 'Administración de Empresas',\n",
       " 'Filosofía',\n",
       " 'Estadística',\n",
       " 'Contaduría Pública']"
      ]
     },
     "execution_count": 33,
     "metadata": {},
     "output_type": "execute_result"
    }
   ],
   "source": [
    "lista_str"
   ]
  },
  {
   "cell_type": "code",
   "execution_count": 34,
   "metadata": {},
   "outputs": [],
   "source": [
    "serie_str = pd.Series(lista_str, index=['a','b','c','d','e'], dtype = 'string')"
   ]
  },
  {
   "cell_type": "code",
   "execution_count": 35,
   "metadata": {},
   "outputs": [
    {
     "data": {
      "text/plain": [
       "a                      Economía\n",
       "b    Administración de Empresas\n",
       "c                     Filosofía\n",
       "d                   Estadística\n",
       "e            Contaduría Pública\n",
       "dtype: string"
      ]
     },
     "execution_count": 35,
     "metadata": {},
     "output_type": "execute_result"
    }
   ],
   "source": [
    "serie_str"
   ]
  },
  {
   "cell_type": "code",
   "execution_count": 36,
   "metadata": {},
   "outputs": [
    {
     "data": {
      "text/plain": [
       "a                      economía\n",
       "b    administración de empresas\n",
       "c                     filosofía\n",
       "d                   estadística\n",
       "e            contaduría pública\n",
       "dtype: string"
      ]
     },
     "execution_count": 36,
     "metadata": {},
     "output_type": "execute_result"
    }
   ],
   "source": [
    "serie_str.str.lower()"
   ]
  },
  {
   "cell_type": "code",
   "execution_count": 38,
   "metadata": {},
   "outputs": [
    {
     "data": {
      "text/plain": [
       "a                      ECONOMÍA\n",
       "b    ADMINISTRACIÓN DE EMPRESAS\n",
       "c                     FILOSOFÍA\n",
       "d                   ESTADÍSTICA\n",
       "e            CONTADURÍA PÚBLICA\n",
       "dtype: string"
      ]
     },
     "execution_count": 38,
     "metadata": {},
     "output_type": "execute_result"
    }
   ],
   "source": [
    "serie_str.str.upper()"
   ]
  },
  {
   "cell_type": "code",
   "execution_count": 39,
   "metadata": {},
   "outputs": [
    {
     "data": {
      "text/plain": [
       "a                      Economía\n",
       "b    Administración de empresas\n",
       "c                     Filosofía\n",
       "d                   Estadística\n",
       "e            Contaduría pública\n",
       "dtype: string"
      ]
     },
     "execution_count": 39,
     "metadata": {},
     "output_type": "execute_result"
    }
   ],
   "source": [
    "serie_str.str.capitalize()"
   ]
  },
  {
   "cell_type": "code",
   "execution_count": 40,
   "metadata": {},
   "outputs": [
    {
     "data": {
      "text/plain": [
       "a                      economía\n",
       "b    administración de empresas\n",
       "c                     filosofía\n",
       "d                   estadística\n",
       "e            contaduría pública\n",
       "dtype: string"
      ]
     },
     "execution_count": 40,
     "metadata": {},
     "output_type": "execute_result"
    }
   ],
   "source": [
    "serie_str.str.casefold()"
   ]
  },
  {
   "cell_type": "code",
   "execution_count": 42,
   "metadata": {},
   "outputs": [
    {
     "data": {
      "text/plain": [
       "d           Estadística\n",
       "e    Contaduría Pública\n",
       "dtype: string"
      ]
     },
     "execution_count": 42,
     "metadata": {},
     "output_type": "execute_result"
    }
   ],
   "source": [
    "serie_str[serie_str.str.endswith('ca')]"
   ]
  },
  {
   "cell_type": "code",
   "execution_count": 43,
   "metadata": {},
   "outputs": [
    {
     "data": {
      "text/plain": [
       "a     0\n",
       "b    -1\n",
       "c    -1\n",
       "d    -1\n",
       "e    -1\n",
       "dtype: Int64"
      ]
     },
     "execution_count": 43,
     "metadata": {},
     "output_type": "execute_result"
    }
   ],
   "source": [
    "serie_str.str.find('Economía')"
   ]
  },
  {
   "cell_type": "code",
   "execution_count": 54,
   "metadata": {},
   "outputs": [
    {
     "data": {
      "text/plain": [
       "a    Economía\n",
       "dtype: string"
      ]
     },
     "execution_count": 54,
     "metadata": {},
     "output_type": "execute_result"
    }
   ],
   "source": [
    "serie_str[serie_str.str.match('Economía')]"
   ]
  },
  {
   "cell_type": "code",
   "execution_count": 51,
   "metadata": {},
   "outputs": [
    {
     "data": {
      "text/plain": [
       "a     True\n",
       "b    False\n",
       "c    False\n",
       "d    False\n",
       "e    False\n",
       "dtype: boolean"
      ]
     },
     "execution_count": 51,
     "metadata": {},
     "output_type": "execute_result"
    }
   ],
   "source": [
    "serie_str.str.contains('Economía')"
   ]
  },
  {
   "cell_type": "code",
   "execution_count": 61,
   "metadata": {},
   "outputs": [
    {
     "data": {
      "text/plain": [
       "['Economía']"
      ]
     },
     "execution_count": 61,
     "metadata": {},
     "output_type": "execute_result"
    }
   ],
   "source": [
    "serie_str.str.split(' ').get(0)"
   ]
  },
  {
   "cell_type": "code",
   "execution_count": 60,
   "metadata": {},
   "outputs": [
    {
     "data": {
      "text/plain": [
       "a          Economía\n",
       "b    Administración\n",
       "c         Filosofía\n",
       "d       Estadística\n",
       "e        Contaduría\n",
       "dtype: object"
      ]
     },
     "execution_count": 60,
     "metadata": {},
     "output_type": "execute_result"
    }
   ],
   "source": [
    "serie_str.str.split(' ').str[0]"
   ]
  },
  {
   "cell_type": "code",
   "execution_count": 66,
   "metadata": {},
   "outputs": [
    {
     "data": {
      "text/plain": [
       "'Economía,Administración de Empresas,Filosofía,Estadística,Contaduría Pública'"
      ]
     },
     "execution_count": 66,
     "metadata": {},
     "output_type": "execute_result"
    }
   ],
   "source": [
    "serie_str.str.cat(sep = ',')"
   ]
  },
  {
   "cell_type": "code",
   "execution_count": 68,
   "metadata": {},
   "outputs": [
    {
     "data": {
      "text/plain": [
       "0    a1\n",
       "1    b2\n",
       "2    c3\n",
       "dtype: string"
      ]
     },
     "execution_count": 68,
     "metadata": {},
     "output_type": "execute_result"
    }
   ],
   "source": [
    "pd.Series(['a1','b2','c3'], dtype='string')"
   ]
  },
  {
   "cell_type": "code",
   "execution_count": 70,
   "metadata": {},
   "outputs": [
    {
     "data": {
      "text/html": [
       "<div>\n",
       "<style scoped>\n",
       "    .dataframe tbody tr th:only-of-type {\n",
       "        vertical-align: middle;\n",
       "    }\n",
       "\n",
       "    .dataframe tbody tr th {\n",
       "        vertical-align: top;\n",
       "    }\n",
       "\n",
       "    .dataframe thead th {\n",
       "        text-align: right;\n",
       "    }\n",
       "</style>\n",
       "<table border=\"1\" class=\"dataframe\">\n",
       "  <thead>\n",
       "    <tr style=\"text-align: right;\">\n",
       "      <th></th>\n",
       "      <th>0</th>\n",
       "      <th>1</th>\n",
       "    </tr>\n",
       "  </thead>\n",
       "  <tbody>\n",
       "    <tr>\n",
       "      <th>0</th>\n",
       "      <td>a</td>\n",
       "      <td>1</td>\n",
       "    </tr>\n",
       "    <tr>\n",
       "      <th>1</th>\n",
       "      <td>b</td>\n",
       "      <td>2</td>\n",
       "    </tr>\n",
       "    <tr>\n",
       "      <th>2</th>\n",
       "      <td>c</td>\n",
       "      <td>3</td>\n",
       "    </tr>\n",
       "  </tbody>\n",
       "</table>\n",
       "</div>"
      ],
      "text/plain": [
       "   0  1\n",
       "0  a  1\n",
       "1  b  2\n",
       "2  c  3"
      ]
     },
     "execution_count": 70,
     "metadata": {},
     "output_type": "execute_result"
    }
   ],
   "source": [
    "pd.Series(['a1','b2','c3'], dtype='string').str.extract(r'([abc])?(\\d)', expand=False)"
   ]
  },
  {
   "cell_type": "code",
   "execution_count": null,
   "metadata": {},
   "outputs": [],
   "source": [
    "#$2400\n",
    "#1.2M\n",
    "#1'200.400"
   ]
  },
  {
   "cell_type": "code",
   "execution_count": 72,
   "metadata": {},
   "outputs": [
    {
     "data": {
      "text/plain": [
       "a                      Economia\n",
       "b    Administración de Empresas\n",
       "c                     Filosofia\n",
       "d                   Estadistica\n",
       "e            Contaduria Pública\n",
       "dtype: string"
      ]
     },
     "execution_count": 72,
     "metadata": {},
     "output_type": "execute_result"
    }
   ],
   "source": [
    "serie_str.str.replace('í','i')"
   ]
  },
  {
   "cell_type": "code",
   "execution_count": 74,
   "metadata": {},
   "outputs": [
    {
     "data": {
      "text/plain": [
       "a                       Economí\n",
       "b    Administración de Empresas\n",
       "c                      Filosofí\n",
       "d                    Estadístic\n",
       "e             Contaduría Públic\n",
       "dtype: string"
      ]
     },
     "execution_count": 74,
     "metadata": {},
     "output_type": "execute_result"
    }
   ],
   "source": [
    "serie_str.str.rstrip('a')"
   ]
  },
  {
   "cell_type": "code",
   "execution_count": 102,
   "metadata": {},
   "outputs": [],
   "source": [
    "a = 2\n",
    "a += 1"
   ]
  },
  {
   "cell_type": "code",
   "execution_count": 97,
   "metadata": {
    "tags": []
   },
   "outputs": [
    {
     "name": "stdout",
     "output_type": "stream",
     "text": [
      "6\n",
      "4\n",
      "62\n"
     ]
    }
   ],
   "source": [
    "count_a = 0\n",
    "count_á = 0\n",
    "count_noa = 0\n",
    "for i in serie_str:\n",
    "    for j in i:\n",
    "        if j == 'i':\n",
    "            count_a += +1 \n",
    "        elif j == 'í':\n",
    "            count_á += 1\n",
    "        else:\n",
    "            count_noa += 1\n",
    "\n",
    "\n",
    "print(count_a)\n",
    "print(count_á)\n",
    "print(count_noa)\n",
    "\n"
   ]
  },
  {
   "cell_type": "code",
   "execution_count": 87,
   "metadata": {},
   "outputs": [
    {
     "data": {
      "text/plain": [
       "['Economía',\n",
       " 'Administración de Empresas',\n",
       " 'Filosofía',\n",
       " 'Estadística',\n",
       " 'Contaduría Pública']"
      ]
     },
     "execution_count": 87,
     "metadata": {},
     "output_type": "execute_result"
    }
   ],
   "source": [
    "lista = []\n",
    "for i in serie_str:\n",
    "    lista.append(i)\n",
    "lista"
   ]
  },
  {
   "cell_type": "markdown",
   "metadata": {},
   "source": [
    "***\n",
    "___"
   ]
  },
  {
   "cell_type": "markdown",
   "metadata": {},
   "source": [
    "``Categóricos``"
   ]
  },
  {
   "cell_type": "code",
   "execution_count": 105,
   "metadata": {},
   "outputs": [],
   "source": [
    "nota = pd.Series([5,4,3,2,1])"
   ]
  },
  {
   "cell_type": "code",
   "execution_count": 106,
   "metadata": {},
   "outputs": [],
   "source": [
    "categorías = pd.Series(['Excelente','Bueno','Regular','Malo','Pésimo'])\n",
    "\n",
    "from pandas.api.types import CategoricalDtype\n",
    "\n",
    "cat_ord = pd.api.types.CategoricalDtype(categories=categorías[::-1].to_list(), ordered=True)"
   ]
  },
  {
   "cell_type": "code",
   "execution_count": 113,
   "metadata": {},
   "outputs": [],
   "source": [
    "df = pd.concat([nota,categorías], axis = 1, keys=['Nota','Categorías'])"
   ]
  },
  {
   "cell_type": "code",
   "execution_count": null,
   "metadata": {},
   "outputs": [],
   "source": []
  },
  {
   "cell_type": "code",
   "execution_count": 115,
   "metadata": {},
   "outputs": [],
   "source": [
    "df['Categorías'] = pd.Series(df['Categorías']).astype(cat_ord)"
   ]
  },
  {
   "cell_type": "code",
   "execution_count": 121,
   "metadata": {},
   "outputs": [
    {
     "data": {
      "text/html": [
       "<div>\n",
       "<style scoped>\n",
       "    .dataframe tbody tr th:only-of-type {\n",
       "        vertical-align: middle;\n",
       "    }\n",
       "\n",
       "    .dataframe tbody tr th {\n",
       "        vertical-align: top;\n",
       "    }\n",
       "\n",
       "    .dataframe thead th {\n",
       "        text-align: right;\n",
       "    }\n",
       "</style>\n",
       "<table border=\"1\" class=\"dataframe\">\n",
       "  <thead>\n",
       "    <tr style=\"text-align: right;\">\n",
       "      <th></th>\n",
       "      <th>Nota</th>\n",
       "      <th>Categorías</th>\n",
       "    </tr>\n",
       "  </thead>\n",
       "  <tbody>\n",
       "    <tr>\n",
       "      <th>0</th>\n",
       "      <td>5</td>\n",
       "      <td>Excelente</td>\n",
       "    </tr>\n",
       "    <tr>\n",
       "      <th>1</th>\n",
       "      <td>4</td>\n",
       "      <td>Bueno</td>\n",
       "    </tr>\n",
       "    <tr>\n",
       "      <th>3</th>\n",
       "      <td>2</td>\n",
       "      <td>Malo</td>\n",
       "    </tr>\n",
       "    <tr>\n",
       "      <th>4</th>\n",
       "      <td>1</td>\n",
       "      <td>Pésimo</td>\n",
       "    </tr>\n",
       "  </tbody>\n",
       "</table>\n",
       "</div>"
      ],
      "text/plain": [
       "   Nota Categorías\n",
       "0     5  Excelente\n",
       "1     4      Bueno\n",
       "3     2       Malo\n",
       "4     1     Pésimo"
      ]
     },
     "execution_count": 121,
     "metadata": {},
     "output_type": "execute_result"
    }
   ],
   "source": [
    "df[df['Categorías'] != 'Regular']"
   ]
  },
  {
   "cell_type": "code",
   "execution_count": 117,
   "metadata": {},
   "outputs": [
    {
     "data": {
      "text/html": [
       "<div>\n",
       "<style scoped>\n",
       "    .dataframe tbody tr th:only-of-type {\n",
       "        vertical-align: middle;\n",
       "    }\n",
       "\n",
       "    .dataframe tbody tr th {\n",
       "        vertical-align: top;\n",
       "    }\n",
       "\n",
       "    .dataframe thead th {\n",
       "        text-align: right;\n",
       "    }\n",
       "</style>\n",
       "<table border=\"1\" class=\"dataframe\">\n",
       "  <thead>\n",
       "    <tr style=\"text-align: right;\">\n",
       "      <th></th>\n",
       "      <th>Nota</th>\n",
       "      <th>Categorías</th>\n",
       "    </tr>\n",
       "  </thead>\n",
       "  <tbody>\n",
       "    <tr>\n",
       "      <th>0</th>\n",
       "      <td>5</td>\n",
       "      <td>Excelente</td>\n",
       "    </tr>\n",
       "    <tr>\n",
       "      <th>1</th>\n",
       "      <td>4</td>\n",
       "      <td>Bueno</td>\n",
       "    </tr>\n",
       "    <tr>\n",
       "      <th>2</th>\n",
       "      <td>3</td>\n",
       "      <td>Regular</td>\n",
       "    </tr>\n",
       "    <tr>\n",
       "      <th>3</th>\n",
       "      <td>2</td>\n",
       "      <td>Malo</td>\n",
       "    </tr>\n",
       "    <tr>\n",
       "      <th>4</th>\n",
       "      <td>1</td>\n",
       "      <td>Pésimo</td>\n",
       "    </tr>\n",
       "  </tbody>\n",
       "</table>\n",
       "</div>"
      ],
      "text/plain": [
       "   Nota Categorías\n",
       "0     5  Excelente\n",
       "1     4      Bueno\n",
       "2     3    Regular\n",
       "3     2       Malo\n",
       "4     1     Pésimo"
      ]
     },
     "execution_count": 117,
     "metadata": {},
     "output_type": "execute_result"
    }
   ],
   "source": [
    "df"
   ]
  },
  {
   "cell_type": "code",
   "execution_count": 60,
   "metadata": {},
   "outputs": [],
   "source": [
    "#boolean mask\n",
    "df[df['Categorías'] > 'Regular']"
   ]
  },
  {
   "cell_type": "markdown",
   "metadata": {},
   "source": [
    "***\n",
    "___"
   ]
  },
  {
   "cell_type": "markdown",
   "metadata": {},
   "source": [
    "# ``Importar y visualizar una Base de Datos``"
   ]
  },
  {
   "cell_type": "code",
   "execution_count": 5,
   "metadata": {},
   "outputs": [],
   "source": [
    "data = pd.read_csv('Casos_positivos_de_COVID19_en_Colombia.csv')"
   ]
  },
  {
   "cell_type": "code",
   "execution_count": 14,
   "metadata": {},
   "outputs": [
    {
     "ename": "AttributeError",
     "evalue": "module 'pandas' has no attribute 'Dataframe'",
     "output_type": "error",
     "traceback": [
      "\u001b[1;31m---------------------------------------------------------------------------\u001b[0m",
      "\u001b[1;31mAttributeError\u001b[0m                            Traceback (most recent call last)",
      "\u001b[1;32m<ipython-input-14-8b7a1553ce18>\u001b[0m in \u001b[0;36m<module>\u001b[1;34m\u001b[0m\n\u001b[1;32m----> 1\u001b[1;33m \u001b[0mpd\u001b[0m\u001b[1;33m.\u001b[0m\u001b[0mDataframe\u001b[0m\u001b[1;33m(\u001b[0m\u001b[0mdata\u001b[0m\u001b[1;33m,\u001b[0m \u001b[0mindex\u001b[0m\u001b[1;33m=\u001b[0m\u001b[0mlist\u001b[0m\u001b[1;33m(\u001b[0m\u001b[0mrange\u001b[0m\u001b[1;33m(\u001b[0m\u001b[1;36m607937\u001b[0m\u001b[1;33m)\u001b[0m\u001b[1;33m)\u001b[0m\u001b[1;33m)\u001b[0m\u001b[1;33m\u001b[0m\u001b[1;33m\u001b[0m\u001b[0m\n\u001b[0m",
      "\u001b[1;32m~\\anaconda3\\lib\\site-packages\\pandas\\__init__.py\u001b[0m in \u001b[0;36m__getattr__\u001b[1;34m(name)\u001b[0m\n\u001b[0;32m    261\u001b[0m             \u001b[1;32mreturn\u001b[0m \u001b[0m_SparseArray\u001b[0m\u001b[1;33m\u001b[0m\u001b[1;33m\u001b[0m\u001b[0m\n\u001b[0;32m    262\u001b[0m \u001b[1;33m\u001b[0m\u001b[0m\n\u001b[1;32m--> 263\u001b[1;33m         \u001b[1;32mraise\u001b[0m \u001b[0mAttributeError\u001b[0m\u001b[1;33m(\u001b[0m\u001b[1;34mf\"module 'pandas' has no attribute '{name}'\"\u001b[0m\u001b[1;33m)\u001b[0m\u001b[1;33m\u001b[0m\u001b[1;33m\u001b[0m\u001b[0m\n\u001b[0m\u001b[0;32m    264\u001b[0m \u001b[1;33m\u001b[0m\u001b[0m\n\u001b[0;32m    265\u001b[0m \u001b[1;33m\u001b[0m\u001b[0m\n",
      "\u001b[1;31mAttributeError\u001b[0m: module 'pandas' has no attribute 'Dataframe'"
     ]
    }
   ],
   "source": [
    "pd.Dataframe(data, index=list(range(607937)))"
   ]
  },
  {
   "cell_type": "code",
   "execution_count": 15,
   "metadata": {},
   "outputs": [
    {
     "ename": "AttributeError",
     "evalue": "'DataFrame' object has no attribute 'view'",
     "output_type": "error",
     "traceback": [
      "\u001b[1;31m---------------------------------------------------------------------------\u001b[0m",
      "\u001b[1;31mAttributeError\u001b[0m                            Traceback (most recent call last)",
      "\u001b[1;32m<ipython-input-15-9b1c300a5c66>\u001b[0m in \u001b[0;36m<module>\u001b[1;34m\u001b[0m\n\u001b[1;32m----> 1\u001b[1;33m \u001b[0mdata\u001b[0m\u001b[1;33m.\u001b[0m\u001b[0mview\u001b[0m\u001b[1;33m(\u001b[0m\u001b[1;33m)\u001b[0m\u001b[1;33m\u001b[0m\u001b[1;33m\u001b[0m\u001b[0m\n\u001b[0m",
      "\u001b[1;32m~\\anaconda3\\lib\\site-packages\\pandas\\core\\generic.py\u001b[0m in \u001b[0;36m__getattr__\u001b[1;34m(self, name)\u001b[0m\n\u001b[0;32m   5272\u001b[0m             \u001b[1;32mif\u001b[0m \u001b[0mself\u001b[0m\u001b[1;33m.\u001b[0m\u001b[0m_info_axis\u001b[0m\u001b[1;33m.\u001b[0m\u001b[0m_can_hold_identifiers_and_holds_name\u001b[0m\u001b[1;33m(\u001b[0m\u001b[0mname\u001b[0m\u001b[1;33m)\u001b[0m\u001b[1;33m:\u001b[0m\u001b[1;33m\u001b[0m\u001b[1;33m\u001b[0m\u001b[0m\n\u001b[0;32m   5273\u001b[0m                 \u001b[1;32mreturn\u001b[0m \u001b[0mself\u001b[0m\u001b[1;33m[\u001b[0m\u001b[0mname\u001b[0m\u001b[1;33m]\u001b[0m\u001b[1;33m\u001b[0m\u001b[1;33m\u001b[0m\u001b[0m\n\u001b[1;32m-> 5274\u001b[1;33m             \u001b[1;32mreturn\u001b[0m \u001b[0mobject\u001b[0m\u001b[1;33m.\u001b[0m\u001b[0m__getattribute__\u001b[0m\u001b[1;33m(\u001b[0m\u001b[0mself\u001b[0m\u001b[1;33m,\u001b[0m \u001b[0mname\u001b[0m\u001b[1;33m)\u001b[0m\u001b[1;33m\u001b[0m\u001b[1;33m\u001b[0m\u001b[0m\n\u001b[0m\u001b[0;32m   5275\u001b[0m \u001b[1;33m\u001b[0m\u001b[0m\n\u001b[0;32m   5276\u001b[0m     \u001b[1;32mdef\u001b[0m \u001b[0m__setattr__\u001b[0m\u001b[1;33m(\u001b[0m\u001b[0mself\u001b[0m\u001b[1;33m,\u001b[0m \u001b[0mname\u001b[0m\u001b[1;33m:\u001b[0m \u001b[0mstr\u001b[0m\u001b[1;33m,\u001b[0m \u001b[0mvalue\u001b[0m\u001b[1;33m)\u001b[0m \u001b[1;33m->\u001b[0m \u001b[1;32mNone\u001b[0m\u001b[1;33m:\u001b[0m\u001b[1;33m\u001b[0m\u001b[1;33m\u001b[0m\u001b[0m\n",
      "\u001b[1;31mAttributeError\u001b[0m: 'DataFrame' object has no attribute 'view'"
     ]
    }
   ],
   "source": []
  },
  {
   "cell_type": "code",
   "execution_count": 126,
   "metadata": {},
   "outputs": [
    {
     "data": {
      "text/html": [
       "<div>\n",
       "<style scoped>\n",
       "    .dataframe tbody tr th:only-of-type {\n",
       "        vertical-align: middle;\n",
       "    }\n",
       "\n",
       "    .dataframe tbody tr th {\n",
       "        vertical-align: top;\n",
       "    }\n",
       "\n",
       "    .dataframe thead th {\n",
       "        text-align: right;\n",
       "    }\n",
       "</style>\n",
       "<table border=\"1\" class=\"dataframe\">\n",
       "  <thead>\n",
       "    <tr style=\"text-align: right;\">\n",
       "      <th></th>\n",
       "      <th>ID de caso</th>\n",
       "      <th>Fecha de notificación</th>\n",
       "      <th>Código DIVIPOLA</th>\n",
       "      <th>Ciudad de ubicación</th>\n",
       "      <th>Departamento o Distrito</th>\n",
       "      <th>atención</th>\n",
       "      <th>Edad</th>\n",
       "      <th>Sexo</th>\n",
       "      <th>Tipo</th>\n",
       "      <th>Estado</th>\n",
       "      <th>...</th>\n",
       "      <th>FIS</th>\n",
       "      <th>Fecha de muerte</th>\n",
       "      <th>Fecha diagnostico</th>\n",
       "      <th>Fecha recuperado</th>\n",
       "      <th>fecha reporte web</th>\n",
       "      <th>Tipo recuperación</th>\n",
       "      <th>Codigo departamento</th>\n",
       "      <th>Codigo pais</th>\n",
       "      <th>Pertenencia etnica</th>\n",
       "      <th>Nombre grupo etnico</th>\n",
       "    </tr>\n",
       "  </thead>\n",
       "  <tbody>\n",
       "    <tr>\n",
       "      <th>607935</th>\n",
       "      <td>607976</td>\n",
       "      <td>2020-08-29T00:00:00.000</td>\n",
       "      <td>11001</td>\n",
       "      <td>Bogotá D.C.</td>\n",
       "      <td>Bogotá D.C.</td>\n",
       "      <td>Casa</td>\n",
       "      <td>48</td>\n",
       "      <td>M</td>\n",
       "      <td>En estudio</td>\n",
       "      <td>Asintomático</td>\n",
       "      <td>...</td>\n",
       "      <td>Asintomático</td>\n",
       "      <td>NaN</td>\n",
       "      <td>2020-08-30T00:00:00.000</td>\n",
       "      <td>NaN</td>\n",
       "      <td>2020-08-30T00:00:00.000</td>\n",
       "      <td>NaN</td>\n",
       "      <td>11</td>\n",
       "      <td>NaN</td>\n",
       "      <td>NaN</td>\n",
       "      <td>NaN</td>\n",
       "    </tr>\n",
       "    <tr>\n",
       "      <th>607936</th>\n",
       "      <td>607977</td>\n",
       "      <td>2020-08-29T00:00:00.000</td>\n",
       "      <td>11001</td>\n",
       "      <td>Bogotá D.C.</td>\n",
       "      <td>Bogotá D.C.</td>\n",
       "      <td>Casa</td>\n",
       "      <td>56</td>\n",
       "      <td>M</td>\n",
       "      <td>En estudio</td>\n",
       "      <td>Asintomático</td>\n",
       "      <td>...</td>\n",
       "      <td>Asintomático</td>\n",
       "      <td>NaN</td>\n",
       "      <td>2020-08-30T00:00:00.000</td>\n",
       "      <td>NaN</td>\n",
       "      <td>2020-08-30T00:00:00.000</td>\n",
       "      <td>NaN</td>\n",
       "      <td>11</td>\n",
       "      <td>NaN</td>\n",
       "      <td>NaN</td>\n",
       "      <td>NaN</td>\n",
       "    </tr>\n",
       "    <tr>\n",
       "      <th>607937</th>\n",
       "      <td>607978</td>\n",
       "      <td>2020-08-29T00:00:00.000</td>\n",
       "      <td>11001</td>\n",
       "      <td>Bogotá D.C.</td>\n",
       "      <td>Bogotá D.C.</td>\n",
       "      <td>Casa</td>\n",
       "      <td>49</td>\n",
       "      <td>F</td>\n",
       "      <td>En estudio</td>\n",
       "      <td>Asintomático</td>\n",
       "      <td>...</td>\n",
       "      <td>Asintomático</td>\n",
       "      <td>NaN</td>\n",
       "      <td>2020-08-30T00:00:00.000</td>\n",
       "      <td>NaN</td>\n",
       "      <td>2020-08-30T00:00:00.000</td>\n",
       "      <td>NaN</td>\n",
       "      <td>11</td>\n",
       "      <td>NaN</td>\n",
       "      <td>NaN</td>\n",
       "      <td>NaN</td>\n",
       "    </tr>\n",
       "  </tbody>\n",
       "</table>\n",
       "<p>3 rows × 21 columns</p>\n",
       "</div>"
      ],
      "text/plain": [
       "        ID de caso    Fecha de notificación  Código DIVIPOLA  \\\n",
       "607935      607976  2020-08-29T00:00:00.000            11001   \n",
       "607936      607977  2020-08-29T00:00:00.000            11001   \n",
       "607937      607978  2020-08-29T00:00:00.000            11001   \n",
       "\n",
       "       Ciudad de ubicación Departamento o Distrito  atención  Edad Sexo  \\\n",
       "607935         Bogotá D.C.              Bogotá D.C.     Casa    48    M   \n",
       "607936         Bogotá D.C.              Bogotá D.C.     Casa    56    M   \n",
       "607937         Bogotá D.C.              Bogotá D.C.     Casa    49    F   \n",
       "\n",
       "              Tipo        Estado  ...           FIS Fecha de muerte  \\\n",
       "607935  En estudio  Asintomático  ...  Asintomático             NaN   \n",
       "607936  En estudio  Asintomático  ...  Asintomático             NaN   \n",
       "607937  En estudio  Asintomático  ...  Asintomático             NaN   \n",
       "\n",
       "              Fecha diagnostico Fecha recuperado        fecha reporte web  \\\n",
       "607935  2020-08-30T00:00:00.000              NaN  2020-08-30T00:00:00.000   \n",
       "607936  2020-08-30T00:00:00.000              NaN  2020-08-30T00:00:00.000   \n",
       "607937  2020-08-30T00:00:00.000              NaN  2020-08-30T00:00:00.000   \n",
       "\n",
       "       Tipo recuperación Codigo departamento  Codigo pais  Pertenencia etnica  \\\n",
       "607935               NaN                  11          NaN                 NaN   \n",
       "607936               NaN                  11          NaN                 NaN   \n",
       "607937               NaN                  11          NaN                 NaN   \n",
       "\n",
       "       Nombre grupo etnico  \n",
       "607935                 NaN  \n",
       "607936                 NaN  \n",
       "607937                 NaN  \n",
       "\n",
       "[3 rows x 21 columns]"
      ]
     },
     "execution_count": 126,
     "metadata": {},
     "output_type": "execute_result"
    }
   ],
   "source": [
    "data.tail(3) #permite una vizualización de la base de datos"
   ]
  },
  {
   "cell_type": "code",
   "execution_count": 127,
   "metadata": {},
   "outputs": [
    {
     "data": {
      "text/html": [
       "<div>\n",
       "<style scoped>\n",
       "    .dataframe tbody tr th:only-of-type {\n",
       "        vertical-align: middle;\n",
       "    }\n",
       "\n",
       "    .dataframe tbody tr th {\n",
       "        vertical-align: top;\n",
       "    }\n",
       "\n",
       "    .dataframe thead th {\n",
       "        text-align: right;\n",
       "    }\n",
       "</style>\n",
       "<table border=\"1\" class=\"dataframe\">\n",
       "  <thead>\n",
       "    <tr style=\"text-align: right;\">\n",
       "      <th></th>\n",
       "      <th>ID de caso</th>\n",
       "      <th>Fecha de notificación</th>\n",
       "      <th>Código DIVIPOLA</th>\n",
       "      <th>Ciudad de ubicación</th>\n",
       "      <th>Departamento o Distrito</th>\n",
       "      <th>atención</th>\n",
       "      <th>Edad</th>\n",
       "      <th>Sexo</th>\n",
       "      <th>Tipo</th>\n",
       "      <th>Estado</th>\n",
       "      <th>...</th>\n",
       "      <th>FIS</th>\n",
       "      <th>Fecha de muerte</th>\n",
       "      <th>Fecha diagnostico</th>\n",
       "      <th>Fecha recuperado</th>\n",
       "      <th>fecha reporte web</th>\n",
       "      <th>Tipo recuperación</th>\n",
       "      <th>Codigo departamento</th>\n",
       "      <th>Codigo pais</th>\n",
       "      <th>Pertenencia etnica</th>\n",
       "      <th>Nombre grupo etnico</th>\n",
       "    </tr>\n",
       "  </thead>\n",
       "  <tbody>\n",
       "    <tr>\n",
       "      <th>607935</th>\n",
       "      <td>607976</td>\n",
       "      <td>2020-08-29T00:00:00.000</td>\n",
       "      <td>11001</td>\n",
       "      <td>Bogotá D.C.</td>\n",
       "      <td>Bogotá D.C.</td>\n",
       "      <td>Casa</td>\n",
       "      <td>48</td>\n",
       "      <td>M</td>\n",
       "      <td>En estudio</td>\n",
       "      <td>Asintomático</td>\n",
       "      <td>...</td>\n",
       "      <td>Asintomático</td>\n",
       "      <td>NaN</td>\n",
       "      <td>2020-08-30T00:00:00.000</td>\n",
       "      <td>NaN</td>\n",
       "      <td>2020-08-30T00:00:00.000</td>\n",
       "      <td>NaN</td>\n",
       "      <td>11</td>\n",
       "      <td>NaN</td>\n",
       "      <td>NaN</td>\n",
       "      <td>NaN</td>\n",
       "    </tr>\n",
       "    <tr>\n",
       "      <th>607936</th>\n",
       "      <td>607977</td>\n",
       "      <td>2020-08-29T00:00:00.000</td>\n",
       "      <td>11001</td>\n",
       "      <td>Bogotá D.C.</td>\n",
       "      <td>Bogotá D.C.</td>\n",
       "      <td>Casa</td>\n",
       "      <td>56</td>\n",
       "      <td>M</td>\n",
       "      <td>En estudio</td>\n",
       "      <td>Asintomático</td>\n",
       "      <td>...</td>\n",
       "      <td>Asintomático</td>\n",
       "      <td>NaN</td>\n",
       "      <td>2020-08-30T00:00:00.000</td>\n",
       "      <td>NaN</td>\n",
       "      <td>2020-08-30T00:00:00.000</td>\n",
       "      <td>NaN</td>\n",
       "      <td>11</td>\n",
       "      <td>NaN</td>\n",
       "      <td>NaN</td>\n",
       "      <td>NaN</td>\n",
       "    </tr>\n",
       "    <tr>\n",
       "      <th>607937</th>\n",
       "      <td>607978</td>\n",
       "      <td>2020-08-29T00:00:00.000</td>\n",
       "      <td>11001</td>\n",
       "      <td>Bogotá D.C.</td>\n",
       "      <td>Bogotá D.C.</td>\n",
       "      <td>Casa</td>\n",
       "      <td>49</td>\n",
       "      <td>F</td>\n",
       "      <td>En estudio</td>\n",
       "      <td>Asintomático</td>\n",
       "      <td>...</td>\n",
       "      <td>Asintomático</td>\n",
       "      <td>NaN</td>\n",
       "      <td>2020-08-30T00:00:00.000</td>\n",
       "      <td>NaN</td>\n",
       "      <td>2020-08-30T00:00:00.000</td>\n",
       "      <td>NaN</td>\n",
       "      <td>11</td>\n",
       "      <td>NaN</td>\n",
       "      <td>NaN</td>\n",
       "      <td>NaN</td>\n",
       "    </tr>\n",
       "  </tbody>\n",
       "</table>\n",
       "<p>3 rows × 21 columns</p>\n",
       "</div>"
      ],
      "text/plain": [
       "        ID de caso    Fecha de notificación  Código DIVIPOLA  \\\n",
       "607935      607976  2020-08-29T00:00:00.000            11001   \n",
       "607936      607977  2020-08-29T00:00:00.000            11001   \n",
       "607937      607978  2020-08-29T00:00:00.000            11001   \n",
       "\n",
       "       Ciudad de ubicación Departamento o Distrito  atención  Edad Sexo  \\\n",
       "607935         Bogotá D.C.              Bogotá D.C.     Casa    48    M   \n",
       "607936         Bogotá D.C.              Bogotá D.C.     Casa    56    M   \n",
       "607937         Bogotá D.C.              Bogotá D.C.     Casa    49    F   \n",
       "\n",
       "              Tipo        Estado  ...           FIS Fecha de muerte  \\\n",
       "607935  En estudio  Asintomático  ...  Asintomático             NaN   \n",
       "607936  En estudio  Asintomático  ...  Asintomático             NaN   \n",
       "607937  En estudio  Asintomático  ...  Asintomático             NaN   \n",
       "\n",
       "              Fecha diagnostico Fecha recuperado        fecha reporte web  \\\n",
       "607935  2020-08-30T00:00:00.000              NaN  2020-08-30T00:00:00.000   \n",
       "607936  2020-08-30T00:00:00.000              NaN  2020-08-30T00:00:00.000   \n",
       "607937  2020-08-30T00:00:00.000              NaN  2020-08-30T00:00:00.000   \n",
       "\n",
       "       Tipo recuperación Codigo departamento  Codigo pais  Pertenencia etnica  \\\n",
       "607935               NaN                  11          NaN                 NaN   \n",
       "607936               NaN                  11          NaN                 NaN   \n",
       "607937               NaN                  11          NaN                 NaN   \n",
       "\n",
       "       Nombre grupo etnico  \n",
       "607935                 NaN  \n",
       "607936                 NaN  \n",
       "607937                 NaN  \n",
       "\n",
       "[3 rows x 21 columns]"
      ]
     },
     "execution_count": 127,
     "metadata": {},
     "output_type": "execute_result"
    }
   ],
   "source": [
    "data.tail(3)"
   ]
  },
  {
   "cell_type": "code",
   "execution_count": 128,
   "metadata": {},
   "outputs": [
    {
     "data": {
      "text/plain": [
       "(607938, 21)"
      ]
     },
     "execution_count": 128,
     "metadata": {},
     "output_type": "execute_result"
    }
   ],
   "source": [
    "data.shape # Retorna una tupla con las dimensiónes del Data Frame (filas,columnas)"
   ]
  },
  {
   "cell_type": "code",
   "execution_count": 130,
   "metadata": {},
   "outputs": [
    {
     "data": {
      "text/plain": [
       "['ID de caso',\n",
       " 'Fecha de notificación',\n",
       " 'Código DIVIPOLA',\n",
       " 'Ciudad de ubicación',\n",
       " 'Departamento o Distrito ',\n",
       " 'atención',\n",
       " 'Edad',\n",
       " 'Sexo',\n",
       " 'Tipo',\n",
       " 'Estado',\n",
       " 'País de procedencia',\n",
       " 'FIS',\n",
       " 'Fecha de muerte',\n",
       " 'Fecha diagnostico',\n",
       " 'Fecha recuperado',\n",
       " 'fecha reporte web',\n",
       " 'Tipo recuperación',\n",
       " 'Codigo departamento',\n",
       " 'Codigo pais',\n",
       " 'Pertenencia etnica',\n",
       " 'Nombre grupo etnico']"
      ]
     },
     "execution_count": 130,
     "metadata": {},
     "output_type": "execute_result"
    }
   ],
   "source": [
    "data.columns.to_list() # Retorna un objeto pandas.core.indexes.base.Index con las Columnas del DF"
   ]
  },
  {
   "cell_type": "code",
   "execution_count": 131,
   "metadata": {},
   "outputs": [
    {
     "data": {
      "text/plain": [
       "ID de caso                    int64\n",
       "Fecha de notificación        object\n",
       "Código DIVIPOLA               int64\n",
       "Ciudad de ubicación          object\n",
       "Departamento o Distrito      object\n",
       "atención                     object\n",
       "Edad                          int64\n",
       "Sexo                         object\n",
       "Tipo                         object\n",
       "Estado                       object\n",
       "País de procedencia          object\n",
       "FIS                          object\n",
       "Fecha de muerte              object\n",
       "Fecha diagnostico            object\n",
       "Fecha recuperado             object\n",
       "fecha reporte web            object\n",
       "Tipo recuperación            object\n",
       "Codigo departamento           int64\n",
       "Codigo pais                 float64\n",
       "Pertenencia etnica           object\n",
       "Nombre grupo etnico          object\n",
       "dtype: object"
      ]
     },
     "execution_count": 131,
     "metadata": {},
     "output_type": "execute_result"
    }
   ],
   "source": [
    "data.dtypes"
   ]
  },
  {
   "cell_type": "code",
   "execution_count": 132,
   "metadata": {
    "tags": []
   },
   "outputs": [
    {
     "name": "stdout",
     "output_type": "stream",
     "text": [
      "<class 'pandas.core.frame.DataFrame'>\n",
      "RangeIndex: 607938 entries, 0 to 607937\n",
      "Data columns (total 21 columns):\n",
      " #   Column                    Non-Null Count   Dtype  \n",
      "---  ------                    --------------   -----  \n",
      " 0   ID de caso                607938 non-null  int64  \n",
      " 1   Fecha de notificación     607938 non-null  object \n",
      " 2   Código DIVIPOLA           607938 non-null  int64  \n",
      " 3   Ciudad de ubicación       607938 non-null  object \n",
      " 4   Departamento o Distrito   607938 non-null  object \n",
      " 5   atención                  606687 non-null  object \n",
      " 6   Edad                      607938 non-null  int64  \n",
      " 7   Sexo                      607938 non-null  object \n",
      " 8   Tipo                      607938 non-null  object \n",
      " 9   Estado                    606619 non-null  object \n",
      " 10  País de procedencia       961 non-null     object \n",
      " 11  FIS                       607938 non-null  object \n",
      " 12  Fecha de muerte           20533 non-null   object \n",
      " 13  Fecha diagnostico         604101 non-null  object \n",
      " 14  Fecha recuperado          450626 non-null  object \n",
      " 15  fecha reporte web         607938 non-null  object \n",
      " 16  Tipo recuperación         450621 non-null  object \n",
      " 17  Codigo departamento       607938 non-null  int64  \n",
      " 18  Codigo pais               962 non-null     float64\n",
      " 19  Pertenencia etnica        281481 non-null  object \n",
      " 20  Nombre grupo etnico       8139 non-null    object \n",
      "dtypes: float64(1), int64(4), object(16)\n",
      "memory usage: 97.4+ MB\n"
     ]
    }
   ],
   "source": [
    "data.info() "
   ]
  },
  {
   "cell_type": "code",
   "execution_count": 133,
   "metadata": {},
   "outputs": [
    {
     "data": {
      "text/plain": [
       "Index(['ID de caso', 'Fecha de notificación', 'Código DIVIPOLA',\n",
       "       'Ciudad de ubicación', 'Departamento o Distrito ', 'atención', 'Edad',\n",
       "       'Sexo', 'Tipo', 'Estado', 'País de procedencia', 'FIS',\n",
       "       'Fecha de muerte', 'Fecha diagnostico', 'Fecha recuperado',\n",
       "       'fecha reporte web', 'Tipo recuperación', 'Codigo departamento',\n",
       "       'Codigo pais', 'Pertenencia etnica', 'Nombre grupo etnico'],\n",
       "      dtype='object')"
      ]
     },
     "execution_count": 133,
     "metadata": {},
     "output_type": "execute_result"
    }
   ],
   "source": [
    "data.columns"
   ]
  },
  {
   "cell_type": "code",
   "execution_count": 135,
   "metadata": {},
   "outputs": [
    {
     "data": {
      "text/plain": [
       "0                 Leve\n",
       "1                 Leve\n",
       "2                 Leve\n",
       "3                 Leve\n",
       "4                 Leve\n",
       "              ...     \n",
       "607933    Asintomático\n",
       "607934    Asintomático\n",
       "607935    Asintomático\n",
       "607936    Asintomático\n",
       "607937    Asintomático\n",
       "Name: Estado, Length: 607938, dtype: object"
      ]
     },
     "execution_count": 135,
     "metadata": {},
     "output_type": "execute_result"
    }
   ],
   "source": [
    "data['Estado']"
   ]
  },
  {
   "cell_type": "code",
   "execution_count": 136,
   "metadata": {},
   "outputs": [
    {
     "data": {
      "text/html": [
       "<div>\n",
       "<style scoped>\n",
       "    .dataframe tbody tr th:only-of-type {\n",
       "        vertical-align: middle;\n",
       "    }\n",
       "\n",
       "    .dataframe tbody tr th {\n",
       "        vertical-align: top;\n",
       "    }\n",
       "\n",
       "    .dataframe thead th {\n",
       "        text-align: right;\n",
       "    }\n",
       "</style>\n",
       "<table border=\"1\" class=\"dataframe\">\n",
       "  <thead>\n",
       "    <tr style=\"text-align: right;\">\n",
       "      <th></th>\n",
       "      <th>Ciudad de ubicación</th>\n",
       "      <th>Departamento o Distrito</th>\n",
       "      <th>atención</th>\n",
       "      <th>Edad</th>\n",
       "      <th>Sexo</th>\n",
       "      <th>Tipo</th>\n",
       "      <th>Estado</th>\n",
       "    </tr>\n",
       "  </thead>\n",
       "  <tbody>\n",
       "    <tr>\n",
       "      <th>0</th>\n",
       "      <td>Bogotá D.C.</td>\n",
       "      <td>Bogotá D.C.</td>\n",
       "      <td>Recuperado</td>\n",
       "      <td>19</td>\n",
       "      <td>F</td>\n",
       "      <td>Importado</td>\n",
       "      <td>Leve</td>\n",
       "    </tr>\n",
       "    <tr>\n",
       "      <th>1</th>\n",
       "      <td>Guadalajara de Buga</td>\n",
       "      <td>Valle del Cauca</td>\n",
       "      <td>Recuperado</td>\n",
       "      <td>34</td>\n",
       "      <td>M</td>\n",
       "      <td>Importado</td>\n",
       "      <td>Leve</td>\n",
       "    </tr>\n",
       "    <tr>\n",
       "      <th>2</th>\n",
       "      <td>Medellín</td>\n",
       "      <td>Antioquia</td>\n",
       "      <td>Recuperado</td>\n",
       "      <td>50</td>\n",
       "      <td>F</td>\n",
       "      <td>Importado</td>\n",
       "      <td>Leve</td>\n",
       "    </tr>\n",
       "    <tr>\n",
       "      <th>3</th>\n",
       "      <td>Medellín</td>\n",
       "      <td>Antioquia</td>\n",
       "      <td>Recuperado</td>\n",
       "      <td>55</td>\n",
       "      <td>M</td>\n",
       "      <td>Relacionado</td>\n",
       "      <td>Leve</td>\n",
       "    </tr>\n",
       "    <tr>\n",
       "      <th>4</th>\n",
       "      <td>Medellín</td>\n",
       "      <td>Antioquia</td>\n",
       "      <td>Recuperado</td>\n",
       "      <td>25</td>\n",
       "      <td>M</td>\n",
       "      <td>Relacionado</td>\n",
       "      <td>Leve</td>\n",
       "    </tr>\n",
       "    <tr>\n",
       "      <th>...</th>\n",
       "      <td>...</td>\n",
       "      <td>...</td>\n",
       "      <td>...</td>\n",
       "      <td>...</td>\n",
       "      <td>...</td>\n",
       "      <td>...</td>\n",
       "      <td>...</td>\n",
       "    </tr>\n",
       "    <tr>\n",
       "      <th>607933</th>\n",
       "      <td>Bogotá D.C.</td>\n",
       "      <td>Bogotá D.C.</td>\n",
       "      <td>Casa</td>\n",
       "      <td>50</td>\n",
       "      <td>M</td>\n",
       "      <td>En estudio</td>\n",
       "      <td>Asintomático</td>\n",
       "    </tr>\n",
       "    <tr>\n",
       "      <th>607934</th>\n",
       "      <td>Bogotá D.C.</td>\n",
       "      <td>Bogotá D.C.</td>\n",
       "      <td>Casa</td>\n",
       "      <td>53</td>\n",
       "      <td>F</td>\n",
       "      <td>En estudio</td>\n",
       "      <td>Asintomático</td>\n",
       "    </tr>\n",
       "    <tr>\n",
       "      <th>607935</th>\n",
       "      <td>Bogotá D.C.</td>\n",
       "      <td>Bogotá D.C.</td>\n",
       "      <td>Casa</td>\n",
       "      <td>48</td>\n",
       "      <td>M</td>\n",
       "      <td>En estudio</td>\n",
       "      <td>Asintomático</td>\n",
       "    </tr>\n",
       "    <tr>\n",
       "      <th>607936</th>\n",
       "      <td>Bogotá D.C.</td>\n",
       "      <td>Bogotá D.C.</td>\n",
       "      <td>Casa</td>\n",
       "      <td>56</td>\n",
       "      <td>M</td>\n",
       "      <td>En estudio</td>\n",
       "      <td>Asintomático</td>\n",
       "    </tr>\n",
       "    <tr>\n",
       "      <th>607937</th>\n",
       "      <td>Bogotá D.C.</td>\n",
       "      <td>Bogotá D.C.</td>\n",
       "      <td>Casa</td>\n",
       "      <td>49</td>\n",
       "      <td>F</td>\n",
       "      <td>En estudio</td>\n",
       "      <td>Asintomático</td>\n",
       "    </tr>\n",
       "  </tbody>\n",
       "</table>\n",
       "<p>607938 rows × 7 columns</p>\n",
       "</div>"
      ],
      "text/plain": [
       "        Ciudad de ubicación Departamento o Distrito     atención  Edad Sexo  \\\n",
       "0               Bogotá D.C.              Bogotá D.C.  Recuperado    19    F   \n",
       "1       Guadalajara de Buga          Valle del Cauca  Recuperado    34    M   \n",
       "2                  Medellín                Antioquia  Recuperado    50    F   \n",
       "3                  Medellín                Antioquia  Recuperado    55    M   \n",
       "4                  Medellín                Antioquia  Recuperado    25    M   \n",
       "...                     ...                      ...         ...   ...  ...   \n",
       "607933          Bogotá D.C.              Bogotá D.C.        Casa    50    M   \n",
       "607934          Bogotá D.C.              Bogotá D.C.        Casa    53    F   \n",
       "607935          Bogotá D.C.              Bogotá D.C.        Casa    48    M   \n",
       "607936          Bogotá D.C.              Bogotá D.C.        Casa    56    M   \n",
       "607937          Bogotá D.C.              Bogotá D.C.        Casa    49    F   \n",
       "\n",
       "               Tipo        Estado  \n",
       "0         Importado          Leve  \n",
       "1         Importado          Leve  \n",
       "2         Importado          Leve  \n",
       "3       Relacionado          Leve  \n",
       "4       Relacionado          Leve  \n",
       "...             ...           ...  \n",
       "607933   En estudio  Asintomático  \n",
       "607934   En estudio  Asintomático  \n",
       "607935   En estudio  Asintomático  \n",
       "607936   En estudio  Asintomático  \n",
       "607937   En estudio  Asintomático  \n",
       "\n",
       "[607938 rows x 7 columns]"
      ]
     },
     "execution_count": 136,
     "metadata": {},
     "output_type": "execute_result"
    }
   ],
   "source": [
    "data[['Ciudad de ubicación', 'Departamento o Distrito ', 'atención', 'Edad',\n",
    "       'Sexo', 'Tipo', 'Estado']]"
   ]
  },
  {
   "cell_type": "code",
   "execution_count": 137,
   "metadata": {},
   "outputs": [
    {
     "data": {
      "text/plain": [
       "{'Asintomático', 'Fallecido', 'Grave', 'Leve', 'Moderado', nan}"
      ]
     },
     "execution_count": 137,
     "metadata": {},
     "output_type": "execute_result"
    }
   ],
   "source": [
    "set(data['Estado'])"
   ]
  },
  {
   "cell_type": "code",
   "execution_count": null,
   "metadata": {},
   "outputs": [],
   "source": [
    "data.sort_values() #Para el último punto del quiz"
   ]
  },
  {
   "cell_type": "markdown",
   "metadata": {},
   "source": [
    "# iloc[]"
   ]
  },
  {
   "cell_type": "code",
   "execution_count": 151,
   "metadata": {},
   "outputs": [
    {
     "data": {
      "text/plain": [
       "0            Bogotá D.C.\n",
       "1        Valle del Cauca\n",
       "2              Antioquia\n",
       "3              Antioquia\n",
       "4              Antioquia\n",
       "5              Antioquia\n",
       "6    Cartagena D.T. y C.\n",
       "7            Bogotá D.C.\n",
       "8            Bogotá D.C.\n",
       "9            Bogotá D.C.\n",
       "Name: Departamento o Distrito , dtype: object"
      ]
     },
     "execution_count": 151,
     "metadata": {},
     "output_type": "execute_result"
    }
   ],
   "source": [
    "data.iloc[0:10][['Departamento o Distrito ']]"
   ]
  },
  {
   "cell_type": "code",
   "execution_count": null,
   "metadata": {},
   "outputs": [],
   "source": []
  }
 ],
 "metadata": {
  "kernelspec": {
   "display_name": "Python 3",
   "language": "python",
   "name": "python3"
  },
  "language_info": {
   "codemirror_mode": {
    "name": "ipython",
    "version": 3
   },
   "file_extension": ".py",
   "mimetype": "text/x-python",
   "name": "python",
   "nbconvert_exporter": "python",
   "pygments_lexer": "ipython3",
   "version": "3.8.3"
  }
 },
 "nbformat": 4,
 "nbformat_minor": 4
}
